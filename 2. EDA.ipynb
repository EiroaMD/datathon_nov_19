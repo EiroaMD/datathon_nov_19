{
 "cells": [
  {
   "cell_type": "markdown",
   "metadata": {},
   "source": [
    "# Imports "
   ]
  },
  {
   "cell_type": "code",
   "execution_count": 1,
   "metadata": {
    "ExecuteTime": {
     "end_time": "2019-11-02T07:49:14.454091Z",
     "start_time": "2019-11-02T07:49:13.435568Z"
    }
   },
   "outputs": [
    {
     "data": {
      "text/html": [
       "<style>.container { width:100% !important; }</style>"
      ],
      "text/plain": [
       "<IPython.core.display.HTML object>"
      ]
     },
     "metadata": {},
     "output_type": "display_data"
    }
   ],
   "source": [
    "# Basic pandas and numpy\n",
    "import pandas as pd\n",
    "import numpy as np\n",
    " \n",
    "# Basic visualization tools\n",
    "import seaborn as sns\n",
    "import matplotlib.pyplot as plt\n",
    "%matplotlib inline\n",
    " \n",
    "# Pandas defaults\n",
    "pd.options.display.max_columns = 500\n",
    "pd.options.display.max_rows = 500\n",
    " \n",
    "# Make jupyter bigger\n",
    "from IPython.core.display import display, HTML\n",
    "display(HTML('<style>.container { width:100% !important; }</style>'))"
   ]
  },
  {
   "cell_type": "markdown",
   "metadata": {},
   "source": [
    "## Import Dataset"
   ]
  },
  {
   "cell_type": "code",
   "execution_count": 2,
   "metadata": {
    "ExecuteTime": {
     "end_time": "2019-11-02T07:49:59.288217Z",
     "start_time": "2019-11-02T07:49:58.909316Z"
    }
   },
   "outputs": [],
   "source": [
    "cookies = pd.read_csv('data/cookies.csv')"
   ]
  },
  {
   "cell_type": "markdown",
   "metadata": {},
   "source": [
    "# EDA"
   ]
  },
  {
   "cell_type": "code",
   "execution_count": 3,
   "metadata": {
    "ExecuteTime": {
     "end_time": "2019-11-02T07:50:11.559266Z",
     "start_time": "2019-11-02T07:50:11.530772Z"
    }
   },
   "outputs": [
    {
     "data": {
      "text/html": [
       "<div>\n",
       "<style scoped>\n",
       "    .dataframe tbody tr th:only-of-type {\n",
       "        vertical-align: middle;\n",
       "    }\n",
       "\n",
       "    .dataframe tbody tr th {\n",
       "        vertical-align: top;\n",
       "    }\n",
       "\n",
       "    .dataframe thead th {\n",
       "        text-align: right;\n",
       "    }\n",
       "</style>\n",
       "<table border=\"1\" class=\"dataframe\">\n",
       "  <thead>\n",
       "    <tr style=\"text-align: right;\">\n",
       "      <th></th>\n",
       "      <th>sugar to flour ratio</th>\n",
       "      <th>sugar index</th>\n",
       "      <th>bake temp</th>\n",
       "      <th>chill time</th>\n",
       "      <th>calories</th>\n",
       "      <th>density</th>\n",
       "      <th>pH</th>\n",
       "      <th>grams baking soda</th>\n",
       "      <th>bake time</th>\n",
       "      <th>quality</th>\n",
       "      <th>butter type</th>\n",
       "      <th>weight</th>\n",
       "      <th>diameter</th>\n",
       "      <th>mixins</th>\n",
       "      <th>crunch factor</th>\n",
       "      <th>aesthetic appeal</th>\n",
       "    </tr>\n",
       "  </thead>\n",
       "  <tbody>\n",
       "    <tr>\n",
       "      <th>0</th>\n",
       "      <td>0.25</td>\n",
       "      <td>9.5</td>\n",
       "      <td>300</td>\n",
       "      <td>15.0</td>\n",
       "      <td>136.0</td>\n",
       "      <td>0.99367</td>\n",
       "      <td>8.10</td>\n",
       "      <td>0.44</td>\n",
       "      <td>12.1</td>\n",
       "      <td>8</td>\n",
       "      <td>melted</td>\n",
       "      <td>15.2</td>\n",
       "      <td>7</td>\n",
       "      <td>raisins</td>\n",
       "      <td>1.30</td>\n",
       "      <td>3</td>\n",
       "    </tr>\n",
       "    <tr>\n",
       "      <th>1</th>\n",
       "      <td>0.23</td>\n",
       "      <td>3.3</td>\n",
       "      <td>520</td>\n",
       "      <td>34.0</td>\n",
       "      <td>113.0</td>\n",
       "      <td>0.99429</td>\n",
       "      <td>8.16</td>\n",
       "      <td>0.48</td>\n",
       "      <td>8.4</td>\n",
       "      <td>7</td>\n",
       "      <td>melted</td>\n",
       "      <td>12.4</td>\n",
       "      <td>7</td>\n",
       "      <td>raisins</td>\n",
       "      <td>1.71</td>\n",
       "      <td>3</td>\n",
       "    </tr>\n",
       "    <tr>\n",
       "      <th>2</th>\n",
       "      <td>0.18</td>\n",
       "      <td>1.9</td>\n",
       "      <td>360</td>\n",
       "      <td>33.0</td>\n",
       "      <td>106.0</td>\n",
       "      <td>0.98746</td>\n",
       "      <td>8.21</td>\n",
       "      <td>0.83</td>\n",
       "      <td>14.0</td>\n",
       "      <td>9</td>\n",
       "      <td>melted</td>\n",
       "      <td>9.4</td>\n",
       "      <td>7</td>\n",
       "      <td>nuts, chocolate</td>\n",
       "      <td>1.78</td>\n",
       "      <td>3</td>\n",
       "    </tr>\n",
       "    <tr>\n",
       "      <th>3</th>\n",
       "      <td>0.18</td>\n",
       "      <td>10.5</td>\n",
       "      <td>490</td>\n",
       "      <td>41.0</td>\n",
       "      <td>124.0</td>\n",
       "      <td>0.99630</td>\n",
       "      <td>8.14</td>\n",
       "      <td>0.35</td>\n",
       "      <td>10.5</td>\n",
       "      <td>7</td>\n",
       "      <td>melted</td>\n",
       "      <td>12.2</td>\n",
       "      <td>7</td>\n",
       "      <td>chocolate</td>\n",
       "      <td>1.59</td>\n",
       "      <td>3</td>\n",
       "    </tr>\n",
       "    <tr>\n",
       "      <th>4</th>\n",
       "      <td>0.24</td>\n",
       "      <td>2.4</td>\n",
       "      <td>770</td>\n",
       "      <td>6.0</td>\n",
       "      <td>33.0</td>\n",
       "      <td>0.99740</td>\n",
       "      <td>8.09</td>\n",
       "      <td>0.57</td>\n",
       "      <td>9.4</td>\n",
       "      <td>5</td>\n",
       "      <td>cubed</td>\n",
       "      <td>19.8</td>\n",
       "      <td>7</td>\n",
       "      <td>nuts, oats, chocolate</td>\n",
       "      <td>1.30</td>\n",
       "      <td>3</td>\n",
       "    </tr>\n",
       "  </tbody>\n",
       "</table>\n",
       "</div>"
      ],
      "text/plain": [
       "   sugar to flour ratio  sugar index  bake temp  chill time  calories  \\\n",
       "0                  0.25          9.5        300        15.0     136.0   \n",
       "1                  0.23          3.3        520        34.0     113.0   \n",
       "2                  0.18          1.9        360        33.0     106.0   \n",
       "3                  0.18         10.5        490        41.0     124.0   \n",
       "4                  0.24          2.4        770         6.0      33.0   \n",
       "\n",
       "   density    pH  grams baking soda  bake time  quality butter type  weight  \\\n",
       "0  0.99367  8.10               0.44       12.1        8      melted    15.2   \n",
       "1  0.99429  8.16               0.48        8.4        7      melted    12.4   \n",
       "2  0.98746  8.21               0.83       14.0        9      melted     9.4   \n",
       "3  0.99630  8.14               0.35       10.5        7      melted    12.2   \n",
       "4  0.99740  8.09               0.57        9.4        5       cubed    19.8   \n",
       "\n",
       "   diameter                 mixins  crunch factor  aesthetic appeal  \n",
       "0         7                raisins           1.30                 3  \n",
       "1         7                raisins           1.71                 3  \n",
       "2         7        nuts, chocolate           1.78                 3  \n",
       "3         7              chocolate           1.59                 3  \n",
       "4         7  nuts, oats, chocolate           1.30                 3  "
      ]
     },
     "execution_count": 3,
     "metadata": {},
     "output_type": "execute_result"
    }
   ],
   "source": [
    "cookies.head()"
   ]
  },
  {
   "cell_type": "code",
   "execution_count": 14,
   "metadata": {
    "ExecuteTime": {
     "end_time": "2019-11-02T07:54:39.913534Z",
     "start_time": "2019-11-02T07:54:39.900293Z"
    }
   },
   "outputs": [
    {
     "data": {
      "text/plain": [
       "(5181, 16)"
      ]
     },
     "execution_count": 14,
     "metadata": {},
     "output_type": "execute_result"
    }
   ],
   "source": [
    "cookies.shape"
   ]
  },
  {
   "cell_type": "code",
   "execution_count": 7,
   "metadata": {
    "ExecuteTime": {
     "end_time": "2019-11-02T07:50:33.205152Z",
     "start_time": "2019-11-02T07:50:33.190276Z"
    }
   },
   "outputs": [
    {
     "name": "stdout",
     "output_type": "stream",
     "text": [
      "<class 'pandas.core.frame.DataFrame'>\n",
      "RangeIndex: 5198 entries, 0 to 5197\n",
      "Data columns (total 16 columns):\n",
      "sugar to flour ratio    5198 non-null float64\n",
      "sugar index             5193 non-null float64\n",
      "bake temp               5198 non-null int64\n",
      "chill time              5198 non-null float64\n",
      "calories                5198 non-null float64\n",
      "density                 5198 non-null float64\n",
      "pH                      5198 non-null float64\n",
      "grams baking soda       5198 non-null float64\n",
      "bake time               5188 non-null float64\n",
      "quality                 5198 non-null int64\n",
      "butter type             5198 non-null object\n",
      "weight                  5198 non-null float64\n",
      "diameter                5198 non-null int64\n",
      "mixins                  5196 non-null object\n",
      "crunch factor           5198 non-null float64\n",
      "aesthetic appeal        5198 non-null int64\n",
      "dtypes: float64(10), int64(4), object(2)\n",
      "memory usage: 649.8+ KB\n"
     ]
    }
   ],
   "source": [
    "cookies.info()"
   ]
  },
  {
   "cell_type": "code",
   "execution_count": 13,
   "metadata": {
    "ExecuteTime": {
     "end_time": "2019-11-02T07:54:36.729149Z",
     "start_time": "2019-11-02T07:54:36.706882Z"
    }
   },
   "outputs": [
    {
     "data": {
      "text/plain": [
       "sugar to flour ratio    0\n",
       "sugar index             0\n",
       "bake temp               0\n",
       "chill time              0\n",
       "calories                0\n",
       "density                 0\n",
       "pH                      0\n",
       "grams baking soda       0\n",
       "bake time               0\n",
       "quality                 0\n",
       "butter type             0\n",
       "weight                  0\n",
       "diameter                0\n",
       "mixins                  0\n",
       "crunch factor           0\n",
       "aesthetic appeal        0\n",
       "dtype: int64"
      ]
     },
     "execution_count": 13,
     "metadata": {},
     "output_type": "execute_result"
    }
   ],
   "source": [
    "cookies.isna().sum()"
   ]
  },
  {
   "cell_type": "markdown",
   "metadata": {
    "ExecuteTime": {
     "end_time": "2019-11-02T07:54:02.573148Z",
     "start_time": "2019-11-02T07:54:02.557960Z"
    }
   },
   "source": [
    "As there are not many null values, we decide to drop those rows"
   ]
  },
  {
   "cell_type": "code",
   "execution_count": 12,
   "metadata": {
    "ExecuteTime": {
     "end_time": "2019-11-02T07:54:34.691405Z",
     "start_time": "2019-11-02T07:54:34.683243Z"
    }
   },
   "outputs": [],
   "source": [
    "cookies.dropna(inplace=True)"
   ]
  },
  {
   "cell_type": "markdown",
   "metadata": {},
   "source": [
    "## Variable exploration"
   ]
  },
  {
   "cell_type": "markdown",
   "metadata": {},
   "source": [
    "### Numerical variables "
   ]
  },
  {
   "cell_type": "code",
   "execution_count": 26,
   "metadata": {
    "ExecuteTime": {
     "end_time": "2019-11-02T08:08:40.878705Z",
     "start_time": "2019-11-02T08:08:40.756146Z"
    }
   },
   "outputs": [
    {
     "data": {
      "text/html": [
       "<div>\n",
       "<style scoped>\n",
       "    .dataframe tbody tr th:only-of-type {\n",
       "        vertical-align: middle;\n",
       "    }\n",
       "\n",
       "    .dataframe tbody tr th {\n",
       "        vertical-align: top;\n",
       "    }\n",
       "\n",
       "    .dataframe thead th {\n",
       "        text-align: right;\n",
       "    }\n",
       "</style>\n",
       "<table border=\"1\" class=\"dataframe\">\n",
       "  <thead>\n",
       "    <tr style=\"text-align: right;\">\n",
       "      <th></th>\n",
       "      <th>count</th>\n",
       "      <th>mean</th>\n",
       "      <th>std</th>\n",
       "      <th>min</th>\n",
       "      <th>25%</th>\n",
       "      <th>50%</th>\n",
       "      <th>75%</th>\n",
       "      <th>max</th>\n",
       "    </tr>\n",
       "  </thead>\n",
       "  <tbody>\n",
       "    <tr>\n",
       "      <th>sugar to flour ratio</th>\n",
       "      <td>5181.0</td>\n",
       "      <td>0.318215</td>\n",
       "      <td>0.149769</td>\n",
       "      <td>0.00000</td>\n",
       "      <td>0.2400</td>\n",
       "      <td>0.3100</td>\n",
       "      <td>0.39000</td>\n",
       "      <td>3.0</td>\n",
       "    </tr>\n",
       "    <tr>\n",
       "      <th>sugar index</th>\n",
       "      <td>5181.0</td>\n",
       "      <td>5.401718</td>\n",
       "      <td>4.669065</td>\n",
       "      <td>0.60000</td>\n",
       "      <td>1.8000</td>\n",
       "      <td>3.0000</td>\n",
       "      <td>8.00000</td>\n",
       "      <td>31.6</td>\n",
       "    </tr>\n",
       "    <tr>\n",
       "      <th>bake temp</th>\n",
       "      <td>5181.0</td>\n",
       "      <td>559.496236</td>\n",
       "      <td>353.265184</td>\n",
       "      <td>90.00000</td>\n",
       "      <td>380.0000</td>\n",
       "      <td>470.0000</td>\n",
       "      <td>640.00000</td>\n",
       "      <td>6110.0</td>\n",
       "    </tr>\n",
       "    <tr>\n",
       "      <th>chill time</th>\n",
       "      <td>5181.0</td>\n",
       "      <td>30.383903</td>\n",
       "      <td>17.249170</td>\n",
       "      <td>0.00000</td>\n",
       "      <td>17.0000</td>\n",
       "      <td>29.0000</td>\n",
       "      <td>41.00000</td>\n",
       "      <td>146.5</td>\n",
       "    </tr>\n",
       "    <tr>\n",
       "      <th>calories</th>\n",
       "      <td>5181.0</td>\n",
       "      <td>115.022679</td>\n",
       "      <td>56.468852</td>\n",
       "      <td>-99.00000</td>\n",
       "      <td>76.0000</td>\n",
       "      <td>118.0000</td>\n",
       "      <td>155.00000</td>\n",
       "      <td>366.5</td>\n",
       "    </tr>\n",
       "    <tr>\n",
       "      <th>density</th>\n",
       "      <td>5181.0</td>\n",
       "      <td>0.995435</td>\n",
       "      <td>0.055723</td>\n",
       "      <td>0.98711</td>\n",
       "      <td>0.9923</td>\n",
       "      <td>0.9948</td>\n",
       "      <td>0.99691</td>\n",
       "      <td>5.0</td>\n",
       "    </tr>\n",
       "    <tr>\n",
       "      <th>pH</th>\n",
       "      <td>5181.0</td>\n",
       "      <td>8.221892</td>\n",
       "      <td>0.283618</td>\n",
       "      <td>7.72000</td>\n",
       "      <td>8.1100</td>\n",
       "      <td>8.2100</td>\n",
       "      <td>8.32000</td>\n",
       "      <td>25.0</td>\n",
       "    </tr>\n",
       "    <tr>\n",
       "      <th>grams baking soda</th>\n",
       "      <td>5181.0</td>\n",
       "      <td>0.531002</td>\n",
       "      <td>0.151002</td>\n",
       "      <td>0.22000</td>\n",
       "      <td>0.4300</td>\n",
       "      <td>0.5100</td>\n",
       "      <td>0.60000</td>\n",
       "      <td>2.0</td>\n",
       "    </tr>\n",
       "    <tr>\n",
       "      <th>bake time</th>\n",
       "      <td>5181.0</td>\n",
       "      <td>10.495561</td>\n",
       "      <td>1.194958</td>\n",
       "      <td>8.00000</td>\n",
       "      <td>9.5000</td>\n",
       "      <td>10.3000</td>\n",
       "      <td>11.30000</td>\n",
       "      <td>14.9</td>\n",
       "    </tr>\n",
       "    <tr>\n",
       "      <th>quality</th>\n",
       "      <td>5181.0</td>\n",
       "      <td>7.325613</td>\n",
       "      <td>1.302336</td>\n",
       "      <td>3.00000</td>\n",
       "      <td>7.0000</td>\n",
       "      <td>8.0000</td>\n",
       "      <td>8.00000</td>\n",
       "      <td>11.0</td>\n",
       "    </tr>\n",
       "    <tr>\n",
       "      <th>weight</th>\n",
       "      <td>5181.0</td>\n",
       "      <td>14.383922</td>\n",
       "      <td>3.027030</td>\n",
       "      <td>-99.00000</td>\n",
       "      <td>12.8000</td>\n",
       "      <td>14.0000</td>\n",
       "      <td>15.40000</td>\n",
       "      <td>31.8</td>\n",
       "    </tr>\n",
       "    <tr>\n",
       "      <th>diameter</th>\n",
       "      <td>5181.0</td>\n",
       "      <td>7.000000</td>\n",
       "      <td>0.000000</td>\n",
       "      <td>7.00000</td>\n",
       "      <td>7.0000</td>\n",
       "      <td>7.0000</td>\n",
       "      <td>7.00000</td>\n",
       "      <td>7.0</td>\n",
       "    </tr>\n",
       "    <tr>\n",
       "      <th>crunch factor</th>\n",
       "      <td>5181.0</td>\n",
       "      <td>1.499025</td>\n",
       "      <td>0.289244</td>\n",
       "      <td>1.00000</td>\n",
       "      <td>1.2500</td>\n",
       "      <td>1.5000</td>\n",
       "      <td>1.75000</td>\n",
       "      <td>2.0</td>\n",
       "    </tr>\n",
       "    <tr>\n",
       "      <th>aesthetic appeal</th>\n",
       "      <td>5181.0</td>\n",
       "      <td>3.000579</td>\n",
       "      <td>0.024059</td>\n",
       "      <td>3.00000</td>\n",
       "      <td>3.0000</td>\n",
       "      <td>3.0000</td>\n",
       "      <td>3.00000</td>\n",
       "      <td>4.0</td>\n",
       "    </tr>\n",
       "  </tbody>\n",
       "</table>\n",
       "</div>"
      ],
      "text/plain": [
       "                       count        mean         std       min       25%  \\\n",
       "sugar to flour ratio  5181.0    0.318215    0.149769   0.00000    0.2400   \n",
       "sugar index           5181.0    5.401718    4.669065   0.60000    1.8000   \n",
       "bake temp             5181.0  559.496236  353.265184  90.00000  380.0000   \n",
       "chill time            5181.0   30.383903   17.249170   0.00000   17.0000   \n",
       "calories              5181.0  115.022679   56.468852 -99.00000   76.0000   \n",
       "density               5181.0    0.995435    0.055723   0.98711    0.9923   \n",
       "pH                    5181.0    8.221892    0.283618   7.72000    8.1100   \n",
       "grams baking soda     5181.0    0.531002    0.151002   0.22000    0.4300   \n",
       "bake time             5181.0   10.495561    1.194958   8.00000    9.5000   \n",
       "quality               5181.0    7.325613    1.302336   3.00000    7.0000   \n",
       "weight                5181.0   14.383922    3.027030 -99.00000   12.8000   \n",
       "diameter              5181.0    7.000000    0.000000   7.00000    7.0000   \n",
       "crunch factor         5181.0    1.499025    0.289244   1.00000    1.2500   \n",
       "aesthetic appeal      5181.0    3.000579    0.024059   3.00000    3.0000   \n",
       "\n",
       "                           50%        75%     max  \n",
       "sugar to flour ratio    0.3100    0.39000     3.0  \n",
       "sugar index             3.0000    8.00000    31.6  \n",
       "bake temp             470.0000  640.00000  6110.0  \n",
       "chill time             29.0000   41.00000   146.5  \n",
       "calories              118.0000  155.00000   366.5  \n",
       "density                 0.9948    0.99691     5.0  \n",
       "pH                      8.2100    8.32000    25.0  \n",
       "grams baking soda       0.5100    0.60000     2.0  \n",
       "bake time              10.3000   11.30000    14.9  \n",
       "quality                 8.0000    8.00000    11.0  \n",
       "weight                 14.0000   15.40000    31.8  \n",
       "diameter                7.0000    7.00000     7.0  \n",
       "crunch factor           1.5000    1.75000     2.0  \n",
       "aesthetic appeal        3.0000    3.00000     4.0  "
      ]
     },
     "execution_count": 26,
     "metadata": {},
     "output_type": "execute_result"
    }
   ],
   "source": [
    "cookies.describe().T"
   ]
  },
  {
   "cell_type": "code",
   "execution_count": 27,
   "metadata": {
    "ExecuteTime": {
     "end_time": "2019-11-02T08:09:37.788576Z",
     "start_time": "2019-11-02T08:09:37.705643Z"
    }
   },
   "outputs": [
    {
     "data": {
      "text/html": [
       "<div>\n",
       "<style scoped>\n",
       "    .dataframe tbody tr th:only-of-type {\n",
       "        vertical-align: middle;\n",
       "    }\n",
       "\n",
       "    .dataframe tbody tr th {\n",
       "        vertical-align: top;\n",
       "    }\n",
       "\n",
       "    .dataframe thead th {\n",
       "        text-align: right;\n",
       "    }\n",
       "</style>\n",
       "<table border=\"1\" class=\"dataframe\">\n",
       "  <thead>\n",
       "    <tr style=\"text-align: right;\">\n",
       "      <th></th>\n",
       "      <th>sugar to flour ratio</th>\n",
       "      <th>sugar index</th>\n",
       "      <th>bake temp</th>\n",
       "      <th>chill time</th>\n",
       "      <th>calories</th>\n",
       "      <th>density</th>\n",
       "      <th>pH</th>\n",
       "      <th>grams baking soda</th>\n",
       "      <th>bake time</th>\n",
       "      <th>quality</th>\n",
       "      <th>butter type</th>\n",
       "      <th>weight</th>\n",
       "      <th>diameter</th>\n",
       "      <th>mixins</th>\n",
       "      <th>crunch factor</th>\n",
       "      <th>aesthetic appeal</th>\n",
       "    </tr>\n",
       "  </thead>\n",
       "  <tbody>\n",
       "    <tr>\n",
       "      <th>18</th>\n",
       "      <td>0.26</td>\n",
       "      <td>1.4</td>\n",
       "      <td>410</td>\n",
       "      <td>40.0</td>\n",
       "      <td>141.0</td>\n",
       "      <td>0.9941</td>\n",
       "      <td>25.0</td>\n",
       "      <td>0.72</td>\n",
       "      <td>9.5</td>\n",
       "      <td>8</td>\n",
       "      <td>melted</td>\n",
       "      <td>13.0</td>\n",
       "      <td>7</td>\n",
       "      <td>chocolate, oats</td>\n",
       "      <td>1.6</td>\n",
       "      <td>3</td>\n",
       "    </tr>\n",
       "  </tbody>\n",
       "</table>\n",
       "</div>"
      ],
      "text/plain": [
       "    sugar to flour ratio  sugar index  bake temp  chill time  calories  \\\n",
       "18                  0.26          1.4        410        40.0     141.0   \n",
       "\n",
       "    density    pH  grams baking soda  bake time  quality butter type  weight  \\\n",
       "18   0.9941  25.0               0.72        9.5        8      melted    13.0   \n",
       "\n",
       "    diameter           mixins  crunch factor  aesthetic appeal  \n",
       "18         7  chocolate, oats            1.6                 3  "
      ]
     },
     "execution_count": 27,
     "metadata": {},
     "output_type": "execute_result"
    }
   ],
   "source": [
    "cookies.loc[cookies.pH > 14]"
   ]
  },
  {
   "cell_type": "code",
   "execution_count": 32,
   "metadata": {
    "ExecuteTime": {
     "end_time": "2019-11-02T08:11:14.481042Z",
     "start_time": "2019-11-02T08:11:13.960298Z"
    }
   },
   "outputs": [
    {
     "data": {
      "text/plain": [
       "<matplotlib.axes._subplots.AxesSubplot at 0x7f4ac44b66a0>"
      ]
     },
     "execution_count": 32,
     "metadata": {},
     "output_type": "execute_result"
    },
    {
     "data": {
      "image/png": "[encoded data removed]",
      "text/plain": [
       "<Figure size 1440x720 with 1 Axes>"
      ]
     },
     "metadata": {
      "needs_background": "light"
     },
     "output_type": "display_data"
    }
   ],
   "source": [
    "plt.figure(figsize= (20, 10))\n",
    "cookies.boxplot()"
   ]
  },
  {
   "cell_type": "code",
   "execution_count": 34,
   "metadata": {
    "ExecuteTime": {
     "end_time": "2019-11-02T08:12:20.712967Z",
     "start_time": "2019-11-02T08:12:20.705250Z"
    }
   },
   "outputs": [
    {
     "name": "stdout",
     "output_type": "stream",
     "text": [
      "['sugar to flour ratio', 'sugar index', 'bake temp', 'chill time', 'calories', 'density', 'pH', 'grams baking soda', 'bake time', 'quality', 'butter type', 'weight', 'diameter', 'mixins', 'crunch factor', 'aesthetic appeal']\n"
     ]
    }
   ],
   "source": [
    "a = list(cookies.columns)\n",
    "print(a)"
   ]
  },
  {
   "cell_type": "code",
   "execution_count": 35,
   "metadata": {
    "ExecuteTime": {
     "end_time": "2019-11-02T08:13:00.398892Z",
     "start_time": "2019-11-02T08:13:00.389608Z"
    }
   },
   "outputs": [],
   "source": [
    "a = [i for i in a if i != 'bake temp']"
   ]
  },
  {
   "cell_type": "code",
   "execution_count": 38,
   "metadata": {
    "ExecuteTime": {
     "end_time": "2019-11-02T08:13:35.434654Z",
     "start_time": "2019-11-02T08:13:34.931084Z"
    }
   },
   "outputs": [
    {
     "data": {
      "text/plain": [
       "<matplotlib.axes._subplots.AxesSubplot at 0x7f4ac40cfa20>"
      ]
     },
     "execution_count": 38,
     "metadata": {},
     "output_type": "execute_result"
    },
    {
     "data": {
      "image/png": "[encoded data removed]",
      "text/plain": [
       "<Figure size 1440x720 with 1 Axes>"
      ]
     },
     "metadata": {
      "needs_background": "light"
     },
     "output_type": "display_data"
    }
   ],
   "source": [
    "plt.figure(figsize= (20, 10))\n",
    "cookies[a].boxplot()"
   ]
  },
  {
   "cell_type": "markdown",
   "metadata": {
    "heading_collapsed": true
   },
   "source": [
    "### Categorical"
   ]
  },
  {
   "cell_type": "markdown",
   "metadata": {
    "hidden": true
   },
   "source": [
    "Butter type\n",
    "\n",
    "Mixings"
   ]
  },
  {
   "cell_type": "code",
   "execution_count": 25,
   "metadata": {
    "ExecuteTime": {
     "end_time": "2019-11-02T08:05:45.048250Z",
     "start_time": "2019-11-02T08:05:45.028465Z"
    },
    "hidden": true
   },
   "outputs": [
    {
     "name": "stdout",
     "output_type": "stream",
     "text": [
      "butter type\n"
     ]
    },
    {
     "data": {
      "text/plain": [
       "melted    3908\n",
       "cubed     1273\n",
       "Name: butter type, dtype: int64"
      ]
     },
     "metadata": {},
     "output_type": "display_data"
    },
    {
     "name": "stdout",
     "output_type": "stream",
     "text": [
      "mixins\n"
     ]
    },
    {
     "data": {
      "text/plain": [
       "chocolate                         1892\n",
       "raisins                           1196\n",
       "chocolate, oats                    745\n",
       "nuts, chocolate                    519\n",
       "nuts,raisins                       331\n",
       "nuts, oats, chocolate              293\n",
       "nuts, oats                         107\n",
       "chocolate, peanut butter            52\n",
       "raisins, oats                       24\n",
       "peanut butter                       15\n",
       "oats                                 4\n",
       "chocolate, oats, peanut butter       2\n",
       "peanut butter, raisins               1\n",
       "Name: mixins, dtype: int64"
      ]
     },
     "metadata": {},
     "output_type": "display_data"
    }
   ],
   "source": [
    "for i in ['butter type', 'mixins']:\n",
    "    print(i)\n",
    "    display(cookies[i].value_counts())"
   ]
  },
  {
   "cell_type": "markdown",
   "metadata": {
    "hidden": true
   },
   "source": [
    "There are a few different values but all of them are a combination of the following elements:\n",
    "* raisins\n",
    "* nuts\n",
    "* chocolate\n",
    "* oats\n",
    "* peanut butter\n",
    "\n",
    "We will deal with this later in the feature engineering part"
   ]
  },
  {
   "cell_type": "code",
   "execution_count": null,
   "metadata": {
    "hidden": true
   },
   "outputs": [],
   "source": []
  }
 ],
 "metadata": {
  "hide_input": false,
  "kernelspec": {
   "display_name": "Python 3",
   "language": "python",
   "name": "python3"
  },
  "language_info": {
   "codemirror_mode": {
    "name": "ipython",
    "version": 3
   },
   "file_extension": ".py",
   "mimetype": "text/x-python",
   "name": "python",
   "nbconvert_exporter": "python",
   "pygments_lexer": "ipython3",
   "version": "3.6.8"
  },
  "toc": {
   "base_numbering": 1,
   "nav_menu": {},
   "number_sections": true,
   "sideBar": true,
   "skip_h1_title": false,
   "title_cell": "Table of Contents",
   "title_sidebar": "Contents",
   "toc_cell": false,
   "toc_position": {},
   "toc_section_display": true,
   "toc_window_display": false
  },
  "varInspector": {
   "cols": {
    "lenName": 16,
    "lenType": 16,
    "lenVar": 40
   },
   "kernels_config": {
    "python": {
     "delete_cmd_postfix": "",
     "delete_cmd_prefix": "del ",
     "library": "var_list.py",
     "varRefreshCmd": "print(var_dic_list())"
    },
    "r": {
     "delete_cmd_postfix": ") ",
     "delete_cmd_prefix": "rm(",
     "library": "var_list.r",
     "varRefreshCmd": "cat(var_dic_list()) "
    }
   },
   "types_to_exclude": [
    "module",
    "function",
    "builtin_function_or_method",
    "instance",
    "_Feature"
   ],
   "window_display": false
  }
 },
 "nbformat": 4,
 "nbformat_minor": 2
}
